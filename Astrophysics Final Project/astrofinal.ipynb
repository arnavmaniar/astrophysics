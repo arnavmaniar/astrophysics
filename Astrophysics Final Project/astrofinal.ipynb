{
 "cells": [
  {
   "cell_type": "markdown",
   "metadata": {},
   "source": [
    "# Gravitational Simulation"
   ]
  },
  {
   "cell_type": "markdown",
   "metadata": {},
   "source": [
    "**Arnav Maniar — Spring 2024**\n",
    "\n",
    "**PH 4180: Astrophysics — Happer**"
   ]
  },
  {
   "cell_type": "markdown",
   "metadata": {},
   "source": [
    "## Introduction\n",
    "\n",
    "This project is a gravitational simulation built using Pygame. It visualizes the interactions between the earth, moon, and spacecraft, under the influence of gravity. Users can create spacecraft and observe their trajectories as they orbit around planets or move through space. The simulation uses fundamental physics principles, including Newton's law of universal gravitation and centripetal acceleration, to accurately model the behavior of objects in space. Through interactive controls and real-time visual feedback, users can explore the dynamics of gravitational forces and visualize orbital mechanics."
   ]
  },
  {
   "cell_type": "markdown",
   "metadata": {},
   "source": [
    "## Import Section"
   ]
  },
  {
   "cell_type": "code",
   "execution_count": 1,
   "metadata": {},
   "outputs": [
    {
     "name": "stdout",
     "output_type": "stream",
     "text": [
      "pygame-ce 2.4.1 (SDL 2.28.5, Python 3.9.6)\n"
     ]
    }
   ],
   "source": [
    "import pygame\n",
    "import math\n",
    "import pygame_gui"
   ]
  },
  {
   "cell_type": "markdown",
   "metadata": {},
   "source": [
    "#### Initializing pygame"
   ]
  },
  {
   "cell_type": "code",
   "execution_count": 2,
   "metadata": {},
   "outputs": [
    {
     "data": {
      "text/plain": [
       "(5, 0)"
      ]
     },
     "execution_count": 2,
     "metadata": {},
     "output_type": "execute_result"
    }
   ],
   "source": [
    "pygame.init()"
   ]
  },
  {
   "cell_type": "markdown",
   "metadata": {},
   "source": [
    "#### Initializing constants for pygame"
   ]
  },
  {
   "cell_type": "code",
   "execution_count": 3,
   "metadata": {},
   "outputs": [
    {
     "name": "stderr",
     "output_type": "stream",
     "text": [
      "2024-05-13 15:27:38.445 Python[26794:11146762] WARNING: Secure coding is automatically enabled for restorable state! However, not on all supported macOS versions of this application. Opt-in to secure coding explicitly by implementing NSApplicationDelegate.applicationSupportsSecureRestorableState:.\n"
     ]
    },
    {
     "ename": "",
     "evalue": "",
     "output_type": "error",
     "traceback": [
      "\u001b[1;31mThe Kernel crashed while executing code in the current cell or a previous cell. \n",
      "\u001b[1;31mPlease review the code in the cell(s) to identify a possible cause of the failure. \n",
      "\u001b[1;31mClick <a href='https://aka.ms/vscodeJupyterKernelCrash'>here</a> for more info. \n",
      "\u001b[1;31mView Jupyter <a href='command:jupyter.viewOutput'>log</a> for further details."
     ]
    }
   ],
   "source": [
    "width, height = 1400, 800\n",
    "win = pygame.display.set_mode((width, height))\n",
    "pygame.display.set_caption(\"Gravitational Simulation\")"
   ]
  },
  {
   "cell_type": "markdown",
   "metadata": {},
   "source": [
    "#### Initializing Constants for Simulation"
   ]
  },
  {
   "cell_type": "code",
   "execution_count": null,
   "metadata": {},
   "outputs": [],
   "source": [
    "plan_mass = 200  #arbitrary value (Earth does not have a mass of 200kg)\n",
    "ship_mass = 1\n",
    "G = 10\n",
    "FPS = 60\n",
    "planet_size = 50\n",
    "object_size = 5\n",
    "velocity_scale = 50"
   ]
  },
  {
   "cell_type": "markdown",
   "metadata": {},
   "source": [
    "#### Load Supplementary Images & Initialize Manager"
   ]
  },
  {
   "cell_type": "code",
   "execution_count": null,
   "metadata": {},
   "outputs": [],
   "source": [
    "bg = pygame.transform.scale(pygame.image.load(\"bkg.jpg\"), (width, height))\n",
    "planet = pygame.transform.scale(pygame.image.load(\"earth.png\"), (planet_size * 2, planet_size * 2))\n",
    "moon = pygame.transform.scale(pygame.image.load(\"moon.jpeg\"), (planet_size, planet_size))\n",
    "WHITE = (255, 255, 255)\n",
    "RED = (255, 0, 0)\n",
    "BLUE = (0, 0, 255)\n",
    "manager = pygame_gui.UIManager((width, height))"
   ]
  },
  {
   "cell_type": "markdown",
   "metadata": {},
   "source": [
    "## Initializing Classes\n",
    "\n",
    "#### Planet Class\n",
    "\n",
    "This class below initializes a planet object with the given position and mass. \n",
    "\n",
    "- x: The x-coordinate of the planet's center. \n",
    "- y: The y-coordinate of the planet's center. \n",
    "- mass: The mass of the planet. \n",
    "\n",
    "It creates instances of the Planet class with specific attributes: x and y coordinates representing the position of the planet's center, and mass representing the mass of the planet. These attributes are assigned to the object using **self** to make them accessible within the class.\n",
    "\n",
    "The draw method renders the planet on the Pygame window. It uses the **blit** function  of the Pygame library to draw the planet image on the window surface. The planet is drawn at coordinates  `(self.x - planet_size, self.y - planet_size)`, which ensures that the center of the planet aligns with its specified position `(x, y)` on the window. The `planet_size` variable is subtracted to adjust for the size of the planet image."
   ]
  },
  {
   "cell_type": "code",
   "execution_count": null,
   "metadata": {},
   "outputs": [],
   "source": [
    "class Planet:\n",
    "    def __init__(self, x, y, mass):\n",
    "        self.x = x\n",
    "        self.y = y\n",
    "        self.mass = mass\n",
    "    def draw(self):\n",
    "        win.blit(planet, (self.x - planet_size, self.y - planet_size))"
   ]
  },
  {
   "cell_type": "markdown",
   "metadata": {},
   "source": [
    "#### Moon Class\n",
    "\n",
    "The code below is just to intialize each of the variables using self, as we did in the Planet class."
   ]
  },
  {
   "cell_type": "code",
   "execution_count": null,
   "metadata": {},
   "outputs": [],
   "source": [
    "class Moon:\n",
    "    def __init__(self, x, y, mass, distance_from_planet, angular_velocity):\n",
    "        self.x = x\n",
    "        self.y = y\n",
    "        self.mass = mass\n",
    "        self.distance_from_planet = distance_from_planet\n",
    "        self.angular_velocity = angular_velocity\n",
    "        self.angle = 0  #initial angle"
   ]
  },
  {
   "cell_type": "markdown",
   "metadata": {},
   "source": [
    "#### Updating Moon's Position:\n",
    "In the `update_position` method of the Moon class, the moon's position is updated based on its angular velocity and distance from the planet. The key mathematical operations involved are:\n",
    "\n",
    "- Calculating New Angle: The angle of the moon (`self.angle`) is incremented by its angular velocity (`self.angular_velocity`). This represents the moon's angular displacement over a certain time interval.\n",
    "\n",
    "- Using Trigonometric Functions: The new x and y coordinates of the moon are calculated using trigonometric functions `math.cos()` and `math.sin()`, respectively. These functions relate the angle (in radians) to the coordinates on a circle (or orbit).\n",
    "\n",
    "- Coordinate Calculation: The updated x coordinate of the moon is calculated as follows:\n",
    "    `self.x = planet.x + self.distance_from_planet * math.cos(self.angle)`\n",
    "- Similarly, the updated y coordinate is calculated as:\n",
    "    `self.y = planet.y + self.distance_from_planet * math.sin(self.angle)`"
   ]
  },
  {
   "cell_type": "code",
   "execution_count": null,
   "metadata": {},
   "outputs": [],
   "source": [
    "    def update_position(self, planet):\n",
    "        #update angle based on angular velo\n",
    "            self.angle += self.angular_velocity\n",
    "        \n",
    "        #calc new pos based on angle/distance from planet\n",
    "            self.x = planet.x + self.distance_from_planet * math.cos(self.angle)\n",
    "            self.y = planet.y + self.distance_from_planet * math.sin(self.angle)"
   ]
  },
  {
   "cell_type": "markdown",
   "metadata": {},
   "source": [
    "#### Drawing Moon\n",
    "This method renders the moon on the Pygame window by blitting its image onto the window surface.  The moon is drawn at coordinates `(self.x - planet_size // 2, self.y - planet_size // 2)`, so that its center aligns with its position on the window. The `planet_size` variable is divided by 2 to adjust for the size of the moon image. "
   ]
  },
  {
   "cell_type": "code",
   "execution_count": null,
   "metadata": {},
   "outputs": [],
   "source": [
    "def draw(self):\n",
    "        win.blit(moon, (int(self.x) - planet_size // 2, int(self.y) - planet_size // 2))"
   ]
  },
  {
   "cell_type": "markdown",
   "metadata": {},
   "source": [
    "#### Spacecraft Class\n",
    "\n",
    "The code below initializes a variable called `spacecraft_count` that keeps track of the active number of spacecraft. The self word just assigns them to the object."
   ]
  },
  {
   "cell_type": "code",
   "execution_count": null,
   "metadata": {},
   "outputs": [],
   "source": [
    "class Spacecraft:\n",
    "    spacecraft_count = 0\n",
    "    def __init__(self, x, y, vel_x, vel_y, mass):\n",
    "        self.x = x \n",
    "        self.y = y\n",
    "        self.vel_x = vel_x\n",
    "        self.vel_y = vel_y\n",
    "        self.mass = mass\n",
    "        self.in_orbit = False  # orbit flag\n",
    "        Spacecraft.spacecraft_count += 1 #add 1 to counter "
   ]
  },
  {
   "cell_type": "markdown",
   "metadata": {},
   "source": [
    "#### Calculating Gravitational Force and Acceleration for Spacecraft:\n",
    "\n",
    "In the move method of the Spacecraft class, the gravitational force and acceleration from the planet are calculated to update the spacecraft's velocity. The relevant mathematical concepts include:\n",
    "\n",
    "**Newton's Law of Universal Gravitation:** The gravitational force between two objects with masses m1 and m2 separated by a distance r is given by:\n",
    "\n",
    "$$\n",
    "F = \\frac{G \\cdot m_1 \\cdot m_2}{r^2}\n",
    "$$\n",
    "\n",
    "\n",
    "**Where:**\n",
    "\n",
    "- 𝐹 is the gravitational force.\n",
    "- 𝐺 is the gravitational constant.\n",
    "- $𝑚_{1}$ and $𝑚_{2}$ are the masses of the objects.\n",
    "- 𝑟 is the distance between the objects.\n",
    "\n",
    "Newton's Second Law: The force experienced by an object is equal to its mass multiplied by its acceleration $F = m \\cdot a$. Rearranging this equation, we get: \n",
    "$$\n",
    "a = \\frac{F}{m}\n",
    "$$\n",
    "\n",
    "**Components of Acceleration:** Since acceleration is a vector quantity, it has both horizontal and vertical components. These components are calculated using trigonometric functions based on the angle between the spacecraft and the planet.\n",
    "\n",
    "**Updating Velocity:** The horizontal and vertical components of acceleration are added to the spacecraft's current velocities (`self.vel_x` and `self.vel_y`, respectively) to update its velocity in each frame.\n",
    "\n",
    "\n",
    "#### Calculating Orbital Velocity and Acceleration for Spacecraft:\n",
    "\n",
    "**Orbital Velocity Calculation:** When the spacecraft enters orbit around the planet, its velocity is adjusted to achieve a stable orbit. This velocity is calculated using the formula:\n",
    "$$\n",
    "v_{\\text{orbit}} = \\frac{r}{\\sqrt{G \\cdot M}}\n",
    "$$\n",
    "\n",
    "**Where:**\n",
    "\n",
    "- $𝑣_{orbit}$ is the orbital velocity.\n",
    "- 𝐺 is the gravitational constant.\n",
    "- 𝑀 is the mass of the planet.\n",
    "- 𝑟 is the distance from the spacecraft to the planet's center.\n",
    "\n",
    "**Centripetal Acceleration Calculation:** In circular motion, centripetal acceleration $a_{c}$ is the acceleration directed towards the center of the circular path. It is calculated using the formula:\n",
    "\n",
    "$$\n",
    "a_c = \\frac{v^2}{r}\n",
    "$$\n",
    "\n",
    "**Where:**\n",
    "\n",
    "- 𝑣 is the velocity of the spacecraft.\n",
    "- 𝑟 is the distance from the spacecraft to the center of the orbit.\n",
    "\n",
    "**Updating Velocity and Position:** The spacecraft's velocity is adjusted to the orbital velocity, and its position is updated accordingly to enter a stable orbit around the planet.\n",
    "\n",
    "The `math.atan2()` function calculates the angle between two points in the Cartesian coordinate system using the arctangent function. It takes two arguments: the difference in y-coordinates ($\\Delta y = \\text{planet.y} - \\text{self.y}$) and the difference in x-coordinates ($\\Delta x = \\text{planet.x} - \\text{self.x}$). The function returns the angle $\\theta$ between the positive x-axis and the line connecting the two points, measured counterclockwise from the positive x-axis. Mathematically, $\\theta = \\text{atan2}(\\Delta y, \\Delta x)$. The calculated angle represents the direction of the gravitational force from the planet acting on the spacecraft. Using trigonometric functions, the horizontal ($a_x$) and vertical ($a_y$) components of acceleration are computed as $a_x = a \\cdot \\cos(\\theta)$ and $a_y = a \\cdot \\sin(\\theta)$, respectively, where $a$ is the total acceleration from the planet.\n",
    "\n"
   ]
  },
  {
   "cell_type": "code",
   "execution_count": null,
   "metadata": {},
   "outputs": [],
   "source": [
    "def move(self, planet, moon=None):\n",
    "        distance_to_planet = math.sqrt((self.x - planet.x)**2 + (self.y - planet.y)**2)\n",
    "        #if spacecraft is not in orbit but is within 100px:\n",
    "        if not self.in_orbit and distance_to_planet <= 100:\n",
    "            angle_to_planet = math.atan2(planet.y - self.y, planet.x - self.x) #finds angle based on positions\n",
    "            self.in_orbit = True  #orbit flag true\n",
    "            orbit_velocity = math.sqrt(G * planet.mass / distance_to_planet)\n",
    "            self.vel_x = orbit_velocity * math.cos(angle_to_planet + math.pi / 2) \n",
    "            self.vel_y = orbit_velocity * math.sin(angle_to_planet + math.pi / 2) \n",
    "        else:\n",
    "        #if not in 100px, calculate grav force\n",
    "            force_from_planet = (G * self.mass * planet.mass) / distance_to_planet ** 2 #universal law of gravitation\n",
    "            acceleration_from_planet = force_from_planet / self.mass # f= ma\n",
    "            angle_to_planet = math.atan2(planet.y - self.y, planet.x - self.x) #angle using tangent\n",
    "\n",
    "            acc_x_from_planet = acceleration_from_planet * math.cos(angle_to_planet)\n",
    "            acc_y_from_planet = acceleration_from_planet * math.sin(angle_to_planet) #how much zoom does this have\n",
    "\n",
    "            self.vel_x += acc_x_from_planet #zoom + zoom zoom\n",
    "            self.vel_y += acc_y_from_planet #zoom + zoom zoom but other way"
   ]
  },
  {
   "cell_type": "markdown",
   "metadata": {},
   "source": [
    "#### Various Functions within Spacecraft Class\n",
    "\n",
    "- `get_velocity(self)`:\n",
    "\n",
    "    * This method calculates and returns the magnitude of the velocity vector of the spacecraft.\n",
    "    * It uses the Pythagorean theorem to compute the magnitude of the velocity vector from its horizontal and vertical components.\n",
    "    * The formula used is $vel_x^2 + vel_y^2$, where $vel_x$ and $vel_y$ are the horizontal and vertical components of velocity, respectively.\n",
    "    * This method effectively determines the overall speed of the spacecraft regardless of its direction.\n",
    "- `get_centripetal_acceleration(self, planet)`:\n",
    "    * This method calculates the centripetal acceleration experienced by the spacecraft as it orbits around the planet.\n",
    "    * Then, it uses the formula $a_c = \\frac{v^2}{r}$ to calculate the centripetal acceleration, where  𝑣 is the velocity magnitude obtained from the `get_velocity()` method.\n",
    "-`get_force_from_planet(self, planet)`:\n",
    "    * This method calculates the gravitational force exerted on the spacecraft by the planet using Newton's Law of Universal Gravitation. It first computes the distance 𝑟 between the spacecraft and the planet using the formula for Euclidean distance.\n",
    "    * Then, it applies the formula $G \\cdot m_s \\cdot m_p / r^2$ to determine the gravitational force, where $G$ is the gravitational constant, $m_s$ is the mass of the spacecraft, $m_p$ is the mass of the planet, and $r$ is the distance between them. The function then returns the calculated gravitational force.\n",
    "- `draw(self)`:\n",
    "    * This method is responsible for rendering the spacecraft on the Pygame window.\n",
    "    * It draws a circle representing the spacecraft at its current position on the window.\n",
    "    * The color of the circle is defined as red, and the position is determined by the spacecraft's coordinates (`x` and `y`) adjusted to integers.\n",
    "    * The circle's size is determined by the `object_size` constant defined earlier in the code.\n",
    "    * This method visually represents the spacecraft within the simulation environment."
   ]
  },
  {
   "cell_type": "code",
   "execution_count": 1,
   "metadata": {},
   "outputs": [],
   "source": [
    "    def get_velocity(self):\n",
    "        return math.sqrt(self.vel_x ** 2 + self.vel_y ** 2) #uses pythag to return velocity\n",
    "\n",
    "    def get_centripetal_acceleration(self, planet):\n",
    "        distance_to_planet = math.sqrt((self.x - planet.x)**2 + (self.y - planet.y)**2) #r\n",
    "        return self.get_velocity()**2 / distance_to_planet #v^2 / r\n",
    "\n",
    "    def get_force_from_planet(self, planet):\n",
    "        distance_to_planet = math.sqrt((self.x - planet.x)**2 + (self.y - planet.y)**2)\n",
    "        return (G * self.mass * planet.mass) / distance_to_planet ** 2 #universal law of grav\n",
    "\n",
    "    def draw(self):\n",
    "        pygame.draw.circle(win, RED, (int(self.x), int(self.y)), object_size) #draws spacecraft (its a dot but ykwhat i mean)"
   ]
  },
  {
   "cell_type": "markdown",
   "metadata": {},
   "source": [
    "## Creating Spacecraft\n",
    "\n",
    "The `location` parameter contains the coordinates of the starting position (`tx, ty`) of the spacecraft, while the mouse parameter contains the coordinates of the `mouse` position (`mx, my`) where the spacecraft's velocity is directed.\n",
    "The velocity of the spacecraft is determined by the difference between the mouse coordinates and the starting position coordinates, divided by the `velocity_scale` constant. The velocity scale constant is defined in the initializing section and can be tweaked. Essentially it tells the program how much velocity to scale by per increment of the length the mouse is dragged.\n",
    "The difference in x-coordinates `(mx - tx)` represents the horizontal displacement between the mouse position and the starting position.\n",
    "The difference in y-coordinates `(my - ty)` represents the vertical displacement.\n",
    "Dividing these displacements by `velocity_scale` scales down the velocity to ensure it remains within manageable limits. It normalizes the velocity vector and the scaling allows for better control over the velocity of the spacecraft.\n",
    "Using the calculated velocity components (`vel_x` and `vel_y`), along with the starting position (`tx` and `ty`), a new instance of the `Spacecraft` class is created.\n",
    "The `Spacecraft` object is initialized with these parameters, including the mass of the spacecraft (`ship_mass`), and is returned from the function."
   ]
  },
  {
   "cell_type": "code",
   "execution_count": 2,
   "metadata": {},
   "outputs": [],
   "source": [
    "def create_ship(location, mouse):\n",
    "    tx, ty = location \n",
    "    mx, my = mouse \n",
    "    vel_x = (mx - tx) / velocity_scale\n",
    "    vel_y = (my - ty) / velocity_scale\n",
    "    obj = Spacecraft(tx, ty, vel_x, vel_y, ship_mass) #this is so cool i used the class finally omg\n",
    "    return obj"
   ]
  },
  {
   "cell_type": "markdown",
   "metadata": {},
   "source": [
    "#### Clear Objects\n",
    "\n",
    "This function will later be used so that when a button is clicked, this function is called. It removes all spacecraft from the screen and also sets the counter to 0."
   ]
  },
  {
   "cell_type": "code",
   "execution_count": null,
   "metadata": {},
   "outputs": [],
   "source": [
    "def clear_objects(objects):\n",
    "    objects.clear() #clear\n",
    "    Spacecraft.spacecraft_count = 0\n"
   ]
  },
  {
   "cell_type": "markdown",
   "metadata": {},
   "source": [
    "## Main Function\n",
    "\n",
    "\n",
    "#### Initialization\n",
    "This code primarily serves to initialize objects and use the classes. Various variables are defined and the planet and moon objects are created. The Planet object takes in parameters for its location and is put at the center of the user's screen. This is almost the same for the moon, however it is placed 200 pixels to the right, and it rotates around the earth with a ${r}$ of 200. The clear button is also created here."
   ]
  },
  {
   "cell_type": "code",
   "execution_count": 4,
   "metadata": {},
   "outputs": [],
   "source": [
    "def main():\n",
    "    running = True\n",
    "    clock = pygame.time.Clock()\n",
    "\n",
    "    planet_obj = Planet(width // 2, height // 2, plan_mass)\n",
    "    moon_obj = Moon(width // 2 + 200, height // 2, 25, 200, 0.01) #USING THE CLASS LETS GOOOOO\n",
    "    objects = []\n",
    "    temp_pos = None\n",
    "    new_object = None\n",
    "    font = pygame.font.Font(None, 36) #font1 for spacecraft counter\n",
    "    font2 = pygame.font.Font(None,22) #font2 for data on orbit text\n",
    "    #make button to clear gui\n",
    "    button_clear = pygame_gui.elements.UIButton(relative_rect=pygame.Rect((width-150, 50), (100, 50)),\n",
    "                                                 text='Clear', manager=manager)"
   ]
  },
  {
   "cell_type": "code",
   "execution_count": null,
   "metadata": {},
   "outputs": [],
   "source": []
  },
  {
   "cell_type": "markdown",
   "metadata": {},
   "source": [
    "#### While Loop\n",
    "\n",
    "This loop is primarily for event handling, however it also keeps the framerate of the game running smoothly. Pygame checks for any button presses or mouse clicks, and it calls the appropriate function as a result. For instance, if the clear button is pressed, it calls the `clear_objects` function, which removes all objects. If the left mouse button is pressed, it records the current mouse position (`event.pos`) as the temporary position (`temp_pos`). If the right mouse button is pressed and a temporary position is recorded, it calls the `create_ship` function to create a new spacecraft object (`new_object`) with the temporary position and the current mouse position. If the right mouse button is released, it appends the newly created spacecraft object (`new_object`) to the list of objects (`objects`).\n",
    "\n",
    "Lastly, the program blits the background to the window and renders it. This is also where the spacecraft counter in the bottom left is created and updated. "
   ]
  },
  {
   "cell_type": "code",
   "execution_count": null,
   "metadata": {},
   "outputs": [],
   "source": [
    "    while running:\n",
    "        time_delta = clock.tick(FPS) / 1000.0\n",
    "        for event in pygame.event.get():\n",
    "            if event.type == pygame.QUIT:\n",
    "                running = False\n",
    "            if event.type == pygame.USEREVENT:\n",
    "                if event.user_type == pygame_gui.UI_BUTTON_PRESSED:\n",
    "                    if event.ui_element == button_clear:\n",
    "                        clear_objects(objects) #clears\n",
    "            if event.type == pygame.MOUSEBUTTONDOWN:\n",
    "                if event.button == 1:\n",
    "                    temp_pos = event.pos\n",
    "                elif event.button == 3:\n",
    "                    if temp_pos:\n",
    "                        new_object = create_ship(temp_pos, event.pos) #makes spacecrafat\n",
    "            if event.type == pygame.MOUSEBUTTONUP:\n",
    "                if event.button == 3:\n",
    "                    if new_object:\n",
    "                        objects.append(new_object)\n",
    "                        #new_object = None\n",
    "                        #initial_pos = None\n",
    "            manager.process_events(event)\n",
    "    win.blit(bg, (0, 0))\n",
    "\n",
    "    spacecraft_count_text = font.render(f\"Spacecraft Active: {Spacecraft.spacecraft_count}\", True, WHITE)\n",
    "    win.blit(spacecraft_count_text, (10, height - 40)) #blits the counter in bototm left\n"
   ]
  },
  {
   "cell_type": "markdown",
   "metadata": {},
   "source": [
    "#### Temporary Position\n",
    "\n",
    "This code is still part of the while loop. \n",
    "\n",
    "The if `temp_pos`: condition checks if a temporary position is recorded (if the left mouse button is pressed).\n",
    "If `temp_pos` exists, a line is drawn from the temporary position (`temp_pos`) to the current mouse position (`pygame.mouse.get_pos()`). This line represents the path the spacecraft would take if launched from the temporary position.\n",
    "Additionally, a blue circle is drawn at the temporary position (`temp_pos`) to visualize the starting point of the spacecraft.\n",
    "\n",
    "**Updating and Drawing Spacecraft:**\n",
    "After that, to update the positions, the loop iterates over each spacecraft object (`obj`) in the `objects` list.\n",
    "For each spacecraft, its `draw()` method is called to render it on the screen.\n",
    "The `move()` method of the spacecraft is called to update its position based on the gravitational forces from the planet and moon.\n",
    "\n",
    "**Collision Detection**\n",
    "The code checks for three conditions to determine if a spacecraft has collided or gone off-screen:\n",
    "- `off_screen`: Checks if the spacecraft's position is outside the window boundaries.\n",
    "- `collided_with_planet`: Calculates the distance between the spacecraft and the planet's center and checks if it's less than or equal to the planet's radius (`planet_size`). If true, it indicates a collision with the planet.\n",
    "- `collided_with_moon`: Similarly, calculates the distance between the spacecraft and the moon's center and checks for collision.\n",
    "If any of these conditions are met, it removes the spacecraft and subtracts 1 from the spacecraft counter."
   ]
  },
  {
   "cell_type": "code",
   "execution_count": null,
   "metadata": {},
   "outputs": [],
   "source": [
    "if temp_pos:\n",
    "            #draws the user figuring out how long and far they want to send the spacecraft\n",
    "            pygame.draw.line(win, WHITE, temp_pos, pygame.mouse.get_pos(), 2) \n",
    "            pygame.draw.circle(win, BLUE, temp_pos, object_size)\n",
    "        \n",
    "        for obj in objects[:]:\n",
    "            obj.draw()\n",
    "            obj.move(planet_obj, moon_obj)\n",
    "            off_screen = obj.x < 0 or obj.x > width or obj.y < 0 or obj.y > height \n",
    "            collided_with_planet = math.sqrt((obj.x - planet_obj.x)**2 + (obj.y - planet_obj.y)**2) <= planet_size #checks for collision\n",
    "            collided_with_moon = math.sqrt((obj.x - moon_obj.x)**2 + (obj.y - moon_obj.y)**2) <= planet_size \n",
    "            if off_screen or collided_with_planet or collided_with_moon:\n",
    "                objects.remove(obj)\n",
    "                Spacecraft.spacecraft_count -= 1 #removes 1 from spacecraft counter"
   ]
  },
  {
   "cell_type": "markdown",
   "metadata": {},
   "source": [
    "#### Draw New Planets\n",
    "\n",
    "After updates, the planets are redrawn."
   ]
  },
  {
   "cell_type": "code",
   "execution_count": null,
   "metadata": {},
   "outputs": [],
   "source": [
    "        planet_obj.draw() #draw\n",
    "        moon_obj.draw() #DRAW\n",
    "        moon_obj.update_position(planet_obj) #UPDATE IT"
   ]
  },
  {
   "cell_type": "markdown",
   "metadata": {},
   "source": [
    "#### Displaying Information for Spacecraft in Orbit\n",
    "\n",
    "**Condition Check**\n",
    "`if new_object is not None and new_object.in_orbit:`: This condition checks if `new_object` exists and if it is in orbit around the planet. It makes sure that the following calculations and display are performed only when a new spacecraft is created and successfully enters orbit.\n",
    "**Calculations**\n",
    "- `velocity = new_object.get_velocity()`: Calculates the velocity of the spacecraft using the `get_velocity()` method of the spacecraft object.\n",
    "- `centripetal_acceleration = new_object.get_centripetal_acceleration(planet_obj)`: Calculates the centripetal acceleration experienced by the spacecraft using the `get_centripetal_acceleration()` method of the spacecraft object.\n",
    "- `force_from_planet = new_object.get_force_from_planet(planet_obj)`: Calculates the gravitational force exerted on the spacecraft by the planet using the `get_force_from_planet()` method of the spacecraft object.\n",
    "**Text Rendering**\n",
    "`velocity_text`, `acceleration_text`, and `force_text` are created using the `font2.render()` method. This renders the calculated velocity, centripetal acceleration, and gravitational force, in the top right, and all are rounded to 2 decimal places. They are blited onto the window and positioned 15 pixels away from each other in the y."
   ]
  },
  {
   "cell_type": "code",
   "execution_count": null,
   "metadata": {},
   "outputs": [],
   "source": [
    "if new_object is not None and new_object.in_orbit:\n",
    "            velocity = new_object.get_velocity() #returns v\n",
    "            centripetal_acceleration = new_object.get_centripetal_acceleration(planet_obj) #returns ac\n",
    "            force_from_planet = new_object.get_force_from_planet(planet_obj) #returns f\n",
    "            \n",
    "            velocity_text = font2.render(f\"Velocity: {velocity:.2f} pixels/frame\", True, WHITE) #defines render\n",
    "            acceleration_text = font2.render(f\"Centripetal Acceleration: {centripetal_acceleration:.2f} pixels/frame^2\", True, WHITE)\n",
    "            force_text = font2.render(f\"Force from Planet: {force_from_planet:.2f} Newtons (scaled)\", True, WHITE)\n",
    "            \n",
    "            win.blit(velocity_text, (10, 10)) #blits render\n",
    "            win.blit(acceleration_text, (10, 25))\n",
    "            win.blit(force_text, (10, 40))\n",
    "\n",
    "\n",
    "        manager.update(time_delta)\n",
    "        manager.draw_ui(win)\n",
    "\n",
    "        pygame.display.update()\n",
    "\n",
    "    pygame.quit()\n"
   ]
  },
  {
   "cell_type": "markdown",
   "metadata": {},
   "source": [
    "## Ending + Calling\n",
    "\n",
    "This final portion of the code simply calls the main function and runs the code. We're done!"
   ]
  },
  {
   "cell_type": "code",
   "execution_count": null,
   "metadata": {},
   "outputs": [],
   "source": [
    "\n",
    "if __name__ == \"__main__\":\n",
    "    main()"
   ]
  }
 ],
 "metadata": {
  "kernelspec": {
   "display_name": "Python 3",
   "language": "python",
   "name": "python3"
  },
  "language_info": {
   "codemirror_mode": {
    "name": "ipython",
    "version": 3
   },
   "file_extension": ".py",
   "mimetype": "text/x-python",
   "name": "python",
   "nbconvert_exporter": "python",
   "pygments_lexer": "ipython3",
   "version": "3.9.6"
  }
 },
 "nbformat": 4,
 "nbformat_minor": 2
}
